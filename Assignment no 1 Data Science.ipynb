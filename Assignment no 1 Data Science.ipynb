{
 "cells": [
  {
   "cell_type": "markdown",
   "metadata": {},
   "source": [
    "<b> Ques no 1: </b>\n",
    "Write a Python program to print the following string in a specific format (see the output).\n",
    "\n",
    "Twinkle, twinkle, little star,\n",
    "    How I wonder what you are!\n",
    "        Up above the world so high,\n",
    "        Like a diamond in the sky.\n",
    "\n",
    "Twinkle, twinkle, little star,\n",
    "    How I wonder what you are"
   ]
  },
  {
   "cell_type": "code",
   "execution_count": 1,
   "metadata": {},
   "outputs": [
    {
     "name": "stdout",
     "output_type": "stream",
     "text": [
      "Twinkle, twinkle, little star, \n",
      " \t How I wounder that you are! \n",
      "\t\t Up above the world so high, \n",
      "\t\t Like a diamond in the sky. \n",
      "Twinkle, twinkle, tittle Star, \n",
      "\t How I wonder what you are\n"
     ]
    }
   ],
   "source": [
    "print(\"Twinkle, twinkle, little star, \\n \\t How I wounder that you are! \\n\\t\\t Up above the world so high, \\n\\t\\t Like a diamond in the sky. \\nTwinkle, twinkle, tittle Star, \\n\\t How I wonder what you are\")"
   ]
  },
  {
   "cell_type": "markdown",
   "metadata": {},
   "source": [
    "<b>Ques no 2:</b> Write a Python program to get the Python version you are using"
   ]
  },
  {
   "cell_type": "code",
   "execution_count": 2,
   "metadata": {},
   "outputs": [
    {
     "name": "stdout",
     "output_type": "stream",
     "text": [
      "3.8.3 (default, Jul  2 2020, 17:30:36) [MSC v.1916 64 bit (AMD64)]\n"
     ]
    }
   ],
   "source": [
    "import sys\n",
    "print(sys.version)"
   ]
  },
  {
   "cell_type": "markdown",
   "metadata": {},
   "source": [
    "<b> Ques no 3:</b> Write a Python program to display the current date and time."
   ]
  },
  {
   "cell_type": "code",
   "execution_count": 3,
   "metadata": {},
   "outputs": [
    {
     "name": "stdout",
     "output_type": "stream",
     "text": [
      "2022-01-01 22:35:52.996548\n"
     ]
    }
   ],
   "source": [
    "from datetime import *\n",
    "dt=datetime.today()\n",
    "print(dt)"
   ]
  },
  {
   "cell_type": "markdown",
   "metadata": {},
   "source": [
    "<b>Ques no 4:</b> Write a Python program which accepts the radius of a circle from the user and compute\n",
    "the area."
   ]
  },
  {
   "cell_type": "code",
   "execution_count": 5,
   "metadata": {},
   "outputs": [
    {
     "name": "stdout",
     "output_type": "stream",
     "text": [
      "Enter radius: 5\n",
      "Area of circle is: 78.53981633974483\n"
     ]
    }
   ],
   "source": [
    "import math as m\n",
    "radius=eval(input(\"Enter radius: \"))\n",
    "area=m.pi*radius**2\n",
    "print(\"Area of circle is:\",area)"
   ]
  },
  {
   "cell_type": "markdown",
   "metadata": {},
   "source": [
    "<b>Ques no 5:</b> Write a Python program which accepts the user's first and last name and print them in\n",
    "reverse order with a space between them."
   ]
  },
  {
   "cell_type": "code",
   "execution_count": 29,
   "metadata": {},
   "outputs": [
    {
     "name": "stdout",
     "output_type": "stream",
     "text": [
      "Enter your first name: razeen\n",
      "Enter your last name: bari\n",
      "reverse order of razeen bari is irab neezar\n"
     ]
    }
   ],
   "source": [
    "first_name = input(\"Enter your first name: \")\n",
    "last_name = input(\"Enter your last name: \")\n",
    "name = first_name +\" \"+ last_name\n",
    "r_name=name[::-1]\n",
    "print(\"reverse order of\",name,\"is\",r_name)"
   ]
  },
  {
   "cell_type": "markdown",
   "metadata": {},
   "source": [
    "<b>Ques no 6: </b> Write a python program which takes two inputs from user and print them addition"
   ]
  },
  {
   "cell_type": "code",
   "execution_count": 9,
   "metadata": {},
   "outputs": [
    {
     "name": "stdout",
     "output_type": "stream",
     "text": [
      "Enter first number: 7\n",
      "Enter second number: 5\n",
      "sum of a and b is:  12\n"
     ]
    }
   ],
   "source": [
    "a=eval(input(\"Enter first number: \"))\n",
    "b=eval(input(\"Enter second number: \"))\n",
    "add= a+b\n",
    "print(\"sum of a and b is: \",add)"
   ]
  }
 ],
 "metadata": {
  "kernelspec": {
   "display_name": "Python 3",
   "language": "python",
   "name": "python3"
  },
  "language_info": {
   "codemirror_mode": {
    "name": "ipython",
    "version": 3
   },
   "file_extension": ".py",
   "mimetype": "text/x-python",
   "name": "python",
   "nbconvert_exporter": "python",
   "pygments_lexer": "ipython3",
   "version": "3.8.3"
  }
 },
 "nbformat": 4,
 "nbformat_minor": 4
}
